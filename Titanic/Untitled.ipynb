{
 "cells": [
  {
   "cell_type": "code",
   "execution_count": 1,
   "metadata": {},
   "outputs": [],
   "source": [
    "import pandas as pd\n",
    "import matplotlib.pyplot as plt\n",
    "from sklearn.linear_model import LogisticRegression\n",
    "from sklearn.model_selection import train_test_split\n",
    "from sklearn.metrics import accuracy_score\n",
    "from sklearn.neural_network import MLPClassifier"
   ]
  },
  {
   "cell_type": "code",
   "execution_count": 2,
   "metadata": {},
   "outputs": [],
   "source": [
    "#SET PATH TO THE DIRECTORY IN WHICH YOUR DATASET IS RESIDING\n",
    "path=\"\""
   ]
  },
  {
   "cell_type": "code",
   "execution_count": 3,
   "metadata": {},
   "outputs": [
    {
     "name": "stdout",
     "output_type": "stream",
     "text": [
      "(418, 11)\n"
     ]
    }
   ],
   "source": [
    "#READ TEST DATASET\n",
    "test_name=path+\"test.csv\"\n",
    "test=pd.read_csv(test_name)\n",
    "test_shape=test.shape\n",
    "print(test_shape)"
   ]
  },
  {
   "cell_type": "code",
   "execution_count": 4,
   "metadata": {},
   "outputs": [
    {
     "name": "stdout",
     "output_type": "stream",
     "text": [
      "(891, 12)\n"
     ]
    }
   ],
   "source": [
    "#READ TRAIN DATASET\n",
    "train_name=path+\"train.csv\"\n",
    "train=pd.read_csv(train_name)\n",
    "train_shape=train.shape\n",
    "print(train_shape)"
   ]
  },
  {
   "cell_type": "code",
   "execution_count": 5,
   "metadata": {},
   "outputs": [],
   "source": [
    "#Exploring train data\n",
    "def show_data(data,num_of_rows):\n",
    "    print(data.head(num_of_rows))"
   ]
  },
  {
   "cell_type": "code",
   "execution_count": 6,
   "metadata": {},
   "outputs": [],
   "source": [
    "def show_pivot(data,indexes,value):\n",
    "    pivot=data.pivot_table(index=indexes,values=value)\n",
    "    print(pivot)"
   ]
  },
  {
   "cell_type": "code",
   "execution_count": 7,
   "metadata": {},
   "outputs": [],
   "source": [
    "def plot_pivot(data,indexes,value):\n",
    "    pivot=data.pivot_table(index=indexes,values=value)\n",
    "    pivot.plot.bar()\n",
    "    plt.show()"
   ]
  },
  {
   "cell_type": "code",
   "execution_count": 8,
   "metadata": {},
   "outputs": [
    {
     "name": "stdout",
     "output_type": "stream",
     "text": [
      "        Survived\n",
      "Pclass          \n",
      "1       0.629630\n",
      "2       0.472826\n",
      "3       0.242363\n"
     ]
    },
    {
     "data": {
      "image/png": "[encoded data removed]",
      "text/plain": [
       "<Figure size 432x288 with 1 Axes>"
      ]
     },
     "metadata": {
      "needs_background": "light"
     },
     "output_type": "display_data"
    }
   ],
   "source": [
    "index=[\"Pclass\"]\n",
    "show_pivot(train,index,\"Survived\")\n",
    "plot_pivot(train,index,\"Survived\")"
   ]
  },
  {
   "cell_type": "code",
   "execution_count": 9,
   "metadata": {},
   "outputs": [],
   "source": [
    "def process_column(data,column,new_column,change_na,cut_point,label_name):\n",
    "    data[column]=data[column].fillna(change_na)\n",
    "    data[new_column]=pd.cut(data[column],cut_point,labels=label_name)\n",
    "    return data"
   ]
  },
  {
   "cell_type": "code",
   "execution_count": 10,
   "metadata": {},
   "outputs": [],
   "source": [
    "def get_dummies(data,column):\n",
    "    for c in column:\n",
    "        dummies=pd.get_dummies(data[c],prefix=c)\n",
    "        data=pd.concat([data,dummies],axis=1)\n",
    "    return data"
   ]
  },
  {
   "cell_type": "code",
   "execution_count": 11,
   "metadata": {},
   "outputs": [],
   "source": [
    "#PROCESSING AGE DATA\n",
    "column=\"Age\"\n",
    "new_column=\"Age Categories\"\n",
    "change_na=-0.5\n",
    "cut_point=[-1,0,5,12,18,35,60,100]\n",
    "label_name=[\"Missing\",\"Infant\",\"Child\",\"Teenage\",\"Young Adult\",\"Adult\",\"Senior\"]\n",
    "train=process_column(train,column,new_column,change_na,cut_point,label_name)\n",
    "test=process_column(test,column,new_column,change_na,cut_point,label_name)"
   ]
  },
  {
   "cell_type": "code",
   "execution_count": 12,
   "metadata": {},
   "outputs": [],
   "source": [
    "column=[\"Pclass\",\"Sex\",\"Age Categories\"]\n",
    "train=get_dummies(train,column)\n",
    "test=get_dummies(test,column)"
   ]
  },
  {
   "cell_type": "code",
   "execution_count": 13,
   "metadata": {},
   "outputs": [],
   "source": [
    "variables=[\"Pclass_1\",\"Pclass_2\",\"Pclass_3\",\"Age Categories_Missing\",\"Age Categories_Infant\",\"Age Categories_Child\",\n",
    "        \"Age Categories_Teenage\",\"Age Categories_Young Adult\",\"Age Categories_Adult\",\"Age Categories_Senior\",\n",
    "        \"Sex_male\",\"Sex_female\"]\n",
    "values=\"Survived\""
   ]
  },
  {
   "cell_type": "code",
   "execution_count": 14,
   "metadata": {},
   "outputs": [
    {
     "name": "stdout",
     "output_type": "stream",
     "text": [
      "   PassengerId  Survived  Pclass  \\\n",
      "0            1         0       3   \n",
      "1            2         1       1   \n",
      "\n",
      "                                                Name     Sex   Age  SibSp  \\\n",
      "0                            Braund, Mr. Owen Harris    male  22.0      1   \n",
      "1  Cumings, Mrs. John Bradley (Florence Briggs Th...  female  38.0      1   \n",
      "\n",
      "   Parch     Ticket     Fare  ... Pclass_3 Sex_female Sex_male  \\\n",
      "0      0  A/5 21171   7.2500  ...        1          0        1   \n",
      "1      0   PC 17599  71.2833  ...        0          1        0   \n",
      "\n",
      "   Age Categories_Missing  Age Categories_Infant  Age Categories_Child  \\\n",
      "0                       0                      0                     0   \n",
      "1                       0                      0                     0   \n",
      "\n",
      "   Age Categories_Teenage  Age Categories_Young Adult  Age Categories_Adult  \\\n",
      "0                       0                           1                     0   \n",
      "1                       0                           0                     1   \n",
      "\n",
      "   Age Categories_Senior  \n",
      "0                      0  \n",
      "1                      0  \n",
      "\n",
      "[2 rows x 25 columns]\n"
     ]
    }
   ],
   "source": [
    "show_data(train,2)"
   ]
  },
  {
   "cell_type": "code",
   "execution_count": 15,
   "metadata": {},
   "outputs": [],
   "source": [
    "def get_trained_model(model,X,Y,test_size):\n",
    "    train_X,test_X,train_Y,test_Y=train_test_split(X,Y,test_size=test_size,random_state=0)\n",
    "    model.fit(train_X,train_Y)\n",
    "    accuracy = get_accuracy(model,test_X,test_Y)\n",
    "    print(\"Training Accuracy of this model on is:\",accuracy)\n",
    "    return model"
   ]
  },
  {
   "cell_type": "code",
   "execution_count": 16,
   "metadata": {},
   "outputs": [],
   "source": [
    "def get_accuracy(model,X,Y):\n",
    "    predictions=model.predict(X)\n",
    "    accuracy = accuracy_score(Y, predictions)\n",
    "    return accuracy"
   ]
  },
  {
   "cell_type": "code",
   "execution_count": 17,
   "metadata": {},
   "outputs": [],
   "source": [
    "train_X=train[variables]\n",
    "train_Y=train[values]\n",
    "\n",
    "genderdata=pd.read_csv(path+\"gender_submission.csv\")\n",
    "test_X=test[variables]\n",
    "test_Y=genderdata[values]"
   ]
  },
  {
   "cell_type": "code",
   "execution_count": 18,
   "metadata": {},
   "outputs": [
    {
     "name": "stdout",
     "output_type": "stream",
     "text": [
      "Training Accuracy of this model on is: 0.8100558659217877\n",
      "Test Accuracy of Logistic Regression is: 0.9784688995215312\n"
     ]
    }
   ],
   "source": [
    "lr=LogisticRegression()\n",
    "lr=get_trained_model(lr,train_X,train_Y,0.2)\n",
    "lr_accuracy=get_accuracy(lr,test_X,test_Y)\n",
    "print(\"Test Accuracy of Logistic Regression is:\",lr_accuracy)"
   ]
  },
  {
   "cell_type": "code",
   "execution_count": 19,
   "metadata": {},
   "outputs": [
    {
     "name": "stdout",
     "output_type": "stream",
     "text": [
      "Training Accuracy of this model on is: 0.5666666666666667\n",
      "Test Accuracy of Neural Netowrk is: 0.6363636363636364\n"
     ]
    }
   ],
   "source": [
    "#Using Neura\n",
    "clf = MLPClassifier(solver='sgd', alpha=1e-6,hidden_layer_sizes=(1, 2), random_state=1)\n",
    "clf=get_trained_model(clf,train_X,train_Y,0.1)\n",
    "clf_accuracy=get_accuracy(clf,test_X,test_Y)\n",
    "print(\"Test Accuracy of Neural Netowrk is:\",clf_accuracy)"
   ]
  },
  {
   "cell_type": "code",
   "execution_count": null,
   "metadata": {},
   "outputs": [],
   "source": []
  }
 ],
 "metadata": {
  "kernelspec": {
   "display_name": "Python 3",
   "language": "python",
   "name": "python3"
  },
  "language_info": {
   "codemirror_mode": {
    "name": "ipython",
    "version": 3
   },
   "file_extension": ".py",
   "mimetype": "text/x-python",
   "name": "python",
   "nbconvert_exporter": "python",
   "pygments_lexer": "ipython3",
   "version": "3.8.1"
  }
 },
 "nbformat": 4,
 "nbformat_minor": 2
}
